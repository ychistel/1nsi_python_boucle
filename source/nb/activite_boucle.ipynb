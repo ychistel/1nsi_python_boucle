{
 "cells": [
  {
   "cell_type": "markdown",
   "id": "214c2498",
   "metadata": {},
   "source": [
    "Découvrir les boucles\n",
    "=================="
   ]
  },
  {
   "cell_type": "markdown",
   "id": "5f8207c9",
   "metadata": {},
   "source": [
    "En programmation et en algorithmique, la répétition d'une instruction se fait selon une boucle. On distingue deux type de boucles. \n",
    "\n",
    "- la boucle **Pour** qui prend toutes les informations disponibles une à une, de la première à la dernière.\n",
    "- la boucle **Tant que** qui prend les informations tant qu'une condition est vérifiée. Cela signifie qu'on peut s'arrêter avant d'avoir utilisé toutes les informations.\n",
    "\n",
    "\n",
    "Les algorithmes sont écrits en **pseudo code** ou en langage naturel (avec les mots du quotidien). Nous écrirons donc des algorithmes pour résoudre les différentes situations qui suivent.\n",
    "\n",
    "Un robot très élaboré est capable d'effectuer différentes tâches si on lui donne des instructions claires et précises."
   ]
  },
  {
   "cell_type": "markdown",
   "id": "96a320ca",
   "metadata": {},
   "source": [
    "Partie 1\n",
    "----------\n",
    "\n",
    "Quatre assiettes sales sont entreposées dans un évier. On veut confier au robot la tâche de laver et ranger les assiettes. Bien entendu, il doit les essuyer avant de les ranger.\n",
    "\n",
    "\n",
    "1. Écrire un algorithme lui donnant les bonnes instructions pour laver les quatre assiettes.\n",
    "2. Votre algorithme peut-il s'adapter à cinq assiettes ?\n",
    "3. On ignore le nombre d'assiettes dans l'évier. Adapter votre algorithme dans ce cas."
   ]
  },
  {
   "cell_type": "markdown",
   "id": "3801e2e3",
   "metadata": {
    "raw_mimetype": "text/markdown"
   },
   "source": []
  },
  {
   "cell_type": "markdown",
   "id": "25e7b92a",
   "metadata": {},
   "source": [
    " \n",
    "Partie 2\n",
    "-----------\n",
    "\n",
    "Un jeu de carte est composé de 32 cartes. Les cartes sont posées sur une table et forme une pile, faces non visibles. On cherche des algorithmes pour que le robot  réalise les actions suivantes:\n",
    "\n",
    "\n",
    "1. Distribuer les cartes entre 2 joueurs sachant qu'il ne doit rester aucune carte sur la table.\n",
    "2. Distribuer 8 cartes par joueur et les cartes sont données à tour de rôle à chaque joueur.\n",
    "3. Vos algorithmes sont-ils toujours valables si on ne connait pas le nombre de cartes au départ. Dans le cas contraire, les adapter."
   ]
  },
  {
   "cell_type": "markdown",
   "id": "2748f2e3",
   "metadata": {
    "raw_mimetype": "text/restructuredtext"
   },
   "source": []
  }
 ],
 "metadata": {
  "celltoolbar": "Format de la Cellule Texte Brut",
  "kernelspec": {
   "display_name": "Python 3",
   "language": "python",
   "name": "python3"
  },
  "language_info": {
   "codemirror_mode": {
    "name": "ipython",
    "version": 3
   },
   "file_extension": ".py",
   "mimetype": "text/x-python",
   "name": "python",
   "nbconvert_exporter": "python",
   "pygments_lexer": "ipython3",
   "version": "3.9.4"
  }
 },
 "nbformat": 4,
 "nbformat_minor": 5
}
