{
 "cells": [
  {
   "cell_type": "markdown",
   "metadata": {},
   "source": [
    "# Exercice\n",
    "\n",
    "Donner les valeurs renvoyées par les boucles for"
   ]
  },
  {
   "cell_type": "code",
   "execution_count": 1,
   "metadata": {},
   "outputs": [
    {
     "name": "stdout",
     "output_type": "stream",
     "text": [
      "0\n",
      "1\n",
      "2\n",
      "3\n",
      "4\n"
     ]
    }
   ],
   "source": [
    "for m in range(5):\n",
    "    print(m)"
   ]
  },
  {
   "cell_type": "code",
   "execution_count": 2,
   "metadata": {},
   "outputs": [
    {
     "name": "stdout",
     "output_type": "stream",
     "text": [
      "4\n",
      "5\n",
      "6\n",
      "7\n"
     ]
    }
   ],
   "source": [
    "for k in range(4,8):\n",
    "    print(k)"
   ]
  },
  {
   "cell_type": "code",
   "execution_count": 3,
   "metadata": {},
   "outputs": [
    {
     "name": "stdout",
     "output_type": "stream",
     "text": [
      "1\n",
      "4\n",
      "7\n",
      "10\n",
      "13\n",
      "16\n"
     ]
    }
   ],
   "source": [
    "for nombre in range(1,19,3):\n",
    "    print(nombre)"
   ]
  },
  {
   "cell_type": "code",
   "execution_count": 5,
   "metadata": {},
   "outputs": [
    {
     "name": "stdout",
     "output_type": "stream",
     "text": [
      "-1\n",
      "9\n",
      "19\n",
      "29\n",
      "39\n"
     ]
    }
   ],
   "source": [
    "for i in range(5):\n",
    "    print(i*10-1)"
   ]
  },
  {
   "cell_type": "markdown",
   "metadata": {},
   "source": [
    "# Exercice\n",
    "\n",
    "Reprendre l'exercice précédent avec une boucle `while`."
   ]
  },
  {
   "cell_type": "code",
   "execution_count": 1,
   "metadata": {},
   "outputs": [
    {
     "name": "stdout",
     "output_type": "stream",
     "text": [
      "0\n",
      "1\n",
      "2\n",
      "3\n",
      "4\n"
     ]
    }
   ],
   "source": [
    "# 1) a)\n",
    "\n",
    "m=0\n",
    "while m<5:\n",
    "    print(m)\n",
    "    m = m+1"
   ]
  },
  {
   "cell_type": "code",
   "execution_count": 3,
   "metadata": {},
   "outputs": [
    {
     "name": "stdout",
     "output_type": "stream",
     "text": [
      "4\n",
      "5\n",
      "6\n",
      "7\n"
     ]
    }
   ],
   "source": [
    "# 1) b)\n",
    "\n",
    "k=4\n",
    "while k<8:\n",
    "    print(k)\n",
    "    k = k+1"
   ]
  },
  {
   "cell_type": "code",
   "execution_count": 4,
   "metadata": {},
   "outputs": [
    {
     "name": "stdout",
     "output_type": "stream",
     "text": [
      "1\n",
      "4\n",
      "7\n",
      "10\n",
      "13\n",
      "16\n"
     ]
    }
   ],
   "source": [
    "# 1) c)\n",
    "\n",
    "nombre = 1\n",
    "while nombre < 19:\n",
    "    print(nombre)\n",
    "    nombre = nombre+3"
   ]
  },
  {
   "cell_type": "code",
   "execution_count": 6,
   "metadata": {},
   "outputs": [
    {
     "name": "stdout",
     "output_type": "stream",
     "text": [
      "-1\n",
      "9\n",
      "19\n",
      "29\n",
      "39\n"
     ]
    }
   ],
   "source": [
    "# 1) d)\n",
    "\n",
    "i=0\n",
    "while i < 5:\n",
    "    print(i*10-1)\n",
    "    i = i+1"
   ]
  },
  {
   "cell_type": "code",
   "execution_count": 15,
   "metadata": {},
   "outputs": [
    {
     "name": "stdout",
     "output_type": "stream",
     "text": [
      "5 6 7 8 9 "
     ]
    }
   ],
   "source": [
    "# 2) a)\n",
    "\n",
    "n = 5\n",
    "while n < 10:\n",
    "    print(n, end=\" \")\n",
    "    n = n+1"
   ]
  },
  {
   "cell_type": "code",
   "execution_count": 13,
   "metadata": {},
   "outputs": [
    {
     "name": "stdout",
     "output_type": "stream",
     "text": [
      "0 2 4 6 8 10 12 14 16 18 "
     ]
    }
   ],
   "source": [
    "# 2) b)\n",
    "\n",
    "n = 0\n",
    "while n <= 9:\n",
    "    print(2*n, end=\" \")\n",
    "    n = n+1"
   ]
  },
  {
   "cell_type": "code",
   "execution_count": 14,
   "metadata": {},
   "outputs": [
    {
     "name": "stdout",
     "output_type": "stream",
     "text": [
      "-1 -2 -3 -4 -5 "
     ]
    }
   ],
   "source": [
    "# 2) c)\n",
    "\n",
    "n = 1\n",
    "while n<=5:\n",
    "    print(-n, end=\" \")\n",
    "    n = n+1"
   ]
  },
  {
   "cell_type": "code",
   "execution_count": 16,
   "metadata": {},
   "outputs": [
    {
     "name": "stdout",
     "output_type": "stream",
     "text": [
      "4 9 16 25 36 "
     ]
    }
   ],
   "source": [
    "# 2) d)\n",
    "\n",
    "n = 2\n",
    "while n**2 <= 36:\n",
    "    print(n**2, end=\" \")\n",
    "    n = n+1"
   ]
  },
  {
   "cell_type": "markdown",
   "metadata": {},
   "source": [
    "# Exercice\n",
    "\n",
    "1. Créer une boucle FOR qui affiche 4 fois le message \"Bienvenue\"\n",
    "2. Modifier votre boucle pour que le message soit affiché autant de fois qu'une valeur saisie avant la boucle.\n",
    "3. Modifier enfin votre code pour que le message soit numéroté :\n",
    "```\n",
    "    Bienvenue 1 fois\\\\\n",
    "    Bienvenue 2 fois\\\\\n",
    "    etc.\n",
    "```"
   ]
  },
  {
   "cell_type": "code",
   "execution_count": 17,
   "metadata": {
    "scrolled": true
   },
   "outputs": [
    {
     "name": "stdout",
     "output_type": "stream",
     "text": [
      "Bienvenue\n",
      "Bienvenue\n",
      "Bienvenue\n",
      "Bienvenue\n"
     ]
    }
   ],
   "source": [
    "for _ in range(4):\n",
    "    print(\"Bienvenue\")"
   ]
  },
  {
   "cell_type": "code",
   "execution_count": 20,
   "metadata": {
    "scrolled": true
   },
   "outputs": [
    {
     "name": "stdout",
     "output_type": "stream",
     "text": [
      "Nombre de répétitions:4\n",
      "Bienvenue\n",
      "Bienvenue\n",
      "Bienvenue\n",
      "Bienvenue\n"
     ]
    }
   ],
   "source": [
    "n=int(input(\"Nombre de répétitions:\"))\n",
    "for _ in range(n):\n",
    "    print(\"Bienvenue\")"
   ]
  },
  {
   "cell_type": "code",
   "execution_count": 21,
   "metadata": {
    "scrolled": true
   },
   "outputs": [
    {
     "name": "stdout",
     "output_type": "stream",
     "text": [
      "Nombre de répétitions:4\n",
      "Bienvenue 1 fois\n",
      "Bienvenue 2 fois\n",
      "Bienvenue 3 fois\n",
      "Bienvenue 4 fois\n"
     ]
    }
   ],
   "source": [
    "n=int(input(\"Nombre de répétitions:\"))\n",
    "for i in range(n):\n",
    "    print(\"Bienvenue\",i+1,\"fois\")"
   ]
  },
  {
   "cell_type": "markdown",
   "metadata": {},
   "source": [
    "# Exercice \n",
    "\n",
    "1. Créer une boucle FOR qui affiche sur une même ligne les nombres de 0 à 9 séparés par un tiret : 0 - 1 -2 -...\n",
    "2. Modifier votre boucle pour qu'elle affiche les nombres en commençant à 5 : 5 - 6 - 7 - ....\n",
    "3. Modifier votre boucle qu'elle affiche les nombres progressant de 3 en 3 : 0 - 3 - 6 - ...\n",
    "4. Modifier votre boucle pour afficher les nombres dans l'ordre décroissant de 9 à 0 : 9 - 8 - 7 - 6 - ..."
   ]
  },
  {
   "cell_type": "code",
   "execution_count": 22,
   "metadata": {},
   "outputs": [
    {
     "name": "stdout",
     "output_type": "stream",
     "text": [
      "0-1-2-3-4-5-6-7-8-9-"
     ]
    }
   ],
   "source": [
    "for i in range(10):\n",
    "    print(i,end=\"-\")"
   ]
  },
  {
   "cell_type": "code",
   "execution_count": 23,
   "metadata": {},
   "outputs": [
    {
     "name": "stdout",
     "output_type": "stream",
     "text": [
      "5-6-7-8-9-"
     ]
    }
   ],
   "source": [
    "for i in range(5,10):\n",
    "    print(i,end=\"-\")"
   ]
  },
  {
   "cell_type": "code",
   "execution_count": 24,
   "metadata": {
    "scrolled": true
   },
   "outputs": [
    {
     "name": "stdout",
     "output_type": "stream",
     "text": [
      "0-3-6-9-"
     ]
    }
   ],
   "source": [
    "for i in range(0,10,3):\n",
    "    print(i,end=\"-\")"
   ]
  },
  {
   "cell_type": "code",
   "execution_count": 25,
   "metadata": {
    "scrolled": true
   },
   "outputs": [
    {
     "name": "stdout",
     "output_type": "stream",
     "text": [
      "9-8-7-6-5-4-3-2-1-0-"
     ]
    }
   ],
   "source": [
    "for i in range(10):\n",
    "    print(9-i,end=\"-\")"
   ]
  },
  {
   "cell_type": "markdown",
   "metadata": {},
   "source": [
    "# Exercice\n",
    "\n",
    "1.  Écrire un programme qui affiche les nombres de 0 à 99 sur 10 lignes, chaque nombre étant séparé par un tiret.\n",
    "2. Proposer une seconde version afin qu'il n'y ait pas de tiret à la fin de chaque ligne."
   ]
  },
  {
   "cell_type": "code",
   "execution_count": 26,
   "metadata": {
    "scrolled": true
   },
   "outputs": [
    {
     "name": "stdout",
     "output_type": "stream",
     "text": [
      "0-1-2-3-4-5-6-7-8-9-\n",
      "10-11-12-13-14-15-16-17-18-19-\n",
      "20-21-22-23-24-25-26-27-28-29-\n",
      "30-31-32-33-34-35-36-37-38-39-\n",
      "40-41-42-43-44-45-46-47-48-49-\n",
      "50-51-52-53-54-55-56-57-58-59-\n",
      "60-61-62-63-64-65-66-67-68-69-\n",
      "70-71-72-73-74-75-76-77-78-79-\n",
      "80-81-82-83-84-85-86-87-88-89-\n",
      "90-91-92-93-94-95-96-97-98-99-\n"
     ]
    }
   ],
   "source": [
    "for i in range(10):\n",
    "    for k in range(10):\n",
    "        print(k+10*i,end=\"-\")\n",
    "    print()"
   ]
  },
  {
   "cell_type": "code",
   "execution_count": 27,
   "metadata": {
    "scrolled": true
   },
   "outputs": [
    {
     "name": "stdout",
     "output_type": "stream",
     "text": [
      "0-1-2-3-4-5-6-7-8-9\n",
      "10-11-12-13-14-15-16-17-18-19\n",
      "20-21-22-23-24-25-26-27-28-29\n",
      "30-31-32-33-34-35-36-37-38-39\n",
      "40-41-42-43-44-45-46-47-48-49\n",
      "50-51-52-53-54-55-56-57-58-59\n",
      "60-61-62-63-64-65-66-67-68-69\n",
      "70-71-72-73-74-75-76-77-78-79\n",
      "80-81-82-83-84-85-86-87-88-89\n",
      "90-91-92-93-94-95-96-97-98-99\n"
     ]
    }
   ],
   "source": [
    "for i in range(10):\n",
    "    for k in range(9):\n",
    "        print(k+10*i,end=\"-\")\n",
    "    print(k+10*i+1)"
   ]
  },
  {
   "cell_type": "code",
   "execution_count": 28,
   "metadata": {},
   "outputs": [
    {
     "name": "stdout",
     "output_type": "stream",
     "text": [
      "00-01-02-03-04-05-06-07-08-09\n",
      "10-11-12-13-14-15-16-17-18-19\n",
      "20-21-22-23-24-25-26-27-28-29\n",
      "30-31-32-33-34-35-36-37-38-39\n",
      "40-41-42-43-44-45-46-47-48-49\n",
      "50-51-52-53-54-55-56-57-58-59\n",
      "60-61-62-63-64-65-66-67-68-69\n",
      "70-71-72-73-74-75-76-77-78-79\n",
      "80-81-82-83-84-85-86-87-88-89\n",
      "90-91-92-93-94-95-96-97-98-99\n"
     ]
    }
   ],
   "source": [
    "for i in range(10):\n",
    "    for k in range(9):\n",
    "        print(\"%02d\" % (k+10*i),end=\"-\")\n",
    "    print(\"%02d\" % (k+10*i+1))\n",
    "    "
   ]
  },
  {
   "cell_type": "markdown",
   "metadata": {},
   "source": [
    "# Exercice\n",
    "\n",
    "1. On souhaite réaliser le motif en \"X\" ci-dessous. Il est composé de 10 lignes et 10 colonnes.    \n",
    "\n",
    "a) Créer une première boucle qui permet de créer une première ligne. Pour afficher du texte sur une même ligne, il faut ajouter le paramètre **end** à la fonction **print** : print(message, end=\"\").     \n",
    "b) Créer une boucle qui va répéter 10 fois la boucle précédente. On dit que ce sont des boucles imbriquées.\n",
    "\n",
    "2. Modifier votre code pour que le nombre de lignes et colones soit saisi par l'utilisateur.\n",
    "3. Réaliser les motifs suivants de 10 lignes et 10 colonnes:"
   ]
  },
  {
   "cell_type": "code",
   "execution_count": 29,
   "metadata": {},
   "outputs": [
    {
     "name": "stdout",
     "output_type": "stream",
     "text": [
      "XXXXXXXXXX\n",
      "XXXXXXXXXX\n",
      "XXXXXXXXXX\n",
      "XXXXXXXXXX\n",
      "XXXXXXXXXX\n",
      "XXXXXXXXXX\n",
      "XXXXXXXXXX\n",
      "XXXXXXXXXX\n",
      "XXXXXXXXXX\n",
      "XXXXXXXXXX\n",
      "\n"
     ]
    }
   ],
   "source": [
    "# On initialise le motif avec du vide, pas de caractère\n",
    "motif=\"\"\n",
    "\n",
    "# Une première boucle qui va réaliser 10 lignes\n",
    "for _ in range(10):\n",
    "    # Une seconde boucle qui ajoute 10 fois la lettre X au motif\n",
    "    for _ in range(10):\n",
    "        motif=motif+\"X\"\n",
    "    # On sort de la seconde boucle, le motif vaut \"XXXXXXXXXX\",\n",
    "    # on ajoute alors au motif le caractère spécial \\n qui équivaut à aller à la ligne.\n",
    "    motif=motif+\"\\n\"\n",
    "\n",
    "# La première boucle est terminée, on 10 lignes de motif qu'on affiche\n",
    "print(motif)"
   ]
  },
  {
   "cell_type": "code",
   "execution_count": 30,
   "metadata": {
    "scrolled": true
   },
   "outputs": [
    {
     "name": "stdout",
     "output_type": "stream",
     "text": [
      "XXXXXXXXXX\n",
      "X        X\n",
      "X        X\n",
      "X        X\n",
      "X        X\n",
      "X        X\n",
      "X        X\n",
      "X        X\n",
      "X        X\n",
      "XXXXXXXXXX\n"
     ]
    }
   ],
   "source": [
    "for _ in range(10):\n",
    "    print(\"X\",end=\"\")\n",
    "print()\n",
    "for _ in range(8):\n",
    "    print(\"X\",end=\"\")\n",
    "    for _ in range(8):\n",
    "        print(\" \",end=\"\")\n",
    "    print(\"X\",end=\"\")\n",
    "    print()\n",
    "for _ in range(10):\n",
    "    print(\"X\",end=\"\")\n",
    "print()"
   ]
  },
  {
   "cell_type": "code",
   "execution_count": 5,
   "metadata": {},
   "outputs": [
    {
     "name": "stdout",
     "output_type": "stream",
     "text": [
      "HIHIHIHIHI\n",
      "IHIHIHIHIH\n",
      "HIHIHIHIHI\n",
      "IHIHIHIHIH\n",
      "HIHIHIHIHI\n",
      "IHIHIHIHIH\n",
      "HIHIHIHIHI\n",
      "IHIHIHIHIH\n",
      "HIHIHIHIHI\n",
      "IHIHIHIHIH\n"
     ]
    }
   ],
   "source": [
    "for _ in range(5):\n",
    "    for _ in range(5):\n",
    "        print(\"HI\",end=\"\")\n",
    "    print()\n",
    "    for _ in range(5):\n",
    "        print(\"IH\",end=\"\")   \n",
    "    print()"
   ]
  },
  {
   "cell_type": "code",
   "execution_count": 25,
   "metadata": {},
   "outputs": [
    {
     "name": "stdout",
     "output_type": "stream",
     "text": [
      "n=10\n",
      "XXXXXXXXXX\n",
      " X      X\n",
      "  X    X\n",
      "   X  X\n",
      "    XX\n",
      "    XX    \n",
      "   X  X   \n",
      "  X    X  \n",
      " X      X \n",
      "XXXXXXXXXX\n"
     ]
    }
   ],
   "source": [
    "n=int(input(\"n=\"))\n",
    "for _ in range(n):\n",
    "    print(\"X\",end=\"\")\n",
    "print()\n",
    "for k in range(1,n//2):\n",
    "    for _ in range(k):\n",
    "        print(\" \",end=\"\")\n",
    "    print(\"X\",end=\"\")\n",
    "    for _ in range(k+1,n-k-1):\n",
    "        print(\" \",end=\"\")\n",
    "    print(\"X\",end=\"\")\n",
    "    for _ in range(n-k,n//2):\n",
    "        print(\" \",end=\"\")\n",
    "    print()\n",
    "for k in range(n//2,n-1):\n",
    "    for _ in range(n-k-1):\n",
    "        print(\" \",end=\"\")\n",
    "    print(\"X\",end=\"\")\n",
    "    for _ in range(n-k,k):\n",
    "        print(\" \",end=\"\")\n",
    "    print(\"X\",end=\"\")\n",
    "    for _ in range(k+1,n):\n",
    "        print(\" \",end=\"\")\n",
    "    print()\n",
    "for _ in range(n):\n",
    "    print(\"X\",end=\"\")\n",
    "print()"
   ]
  },
  {
   "cell_type": "markdown",
   "metadata": {},
   "source": [
    "# Exercice\n",
    "\n",
    "1. Écrire un premier programme qui calcule et affiche $1 + 2 + 3 + \\ldots + 100$.\n",
    "2. Écrire un second programme qui calcule et affiche $1 \\times 2 \\times \\ldots \\times 100$.\n",
    "3. Modifier les deux programmes précédents pour calculer et afficher les résultats jusqu'à un nombre $N$ saisi par l'utilisateur."
   ]
  },
  {
   "cell_type": "code",
   "execution_count": 30,
   "metadata": {},
   "outputs": [
    {
     "name": "stdout",
     "output_type": "stream",
     "text": [
      "S= 5050\n"
     ]
    }
   ],
   "source": [
    "S=0\n",
    "for k in range(100):\n",
    "    S=S+(k+1)\n",
    "print(\"S=\",S)"
   ]
  },
  {
   "cell_type": "code",
   "execution_count": 31,
   "metadata": {},
   "outputs": [
    {
     "name": "stdout",
     "output_type": "stream",
     "text": [
      "P= 93326215443944152681699238856266700490715968264381621468592963895217599993229915608941463976156518286253697920827223758251185210916864000000000000000000000000\n"
     ]
    }
   ],
   "source": [
    "P=1\n",
    "for k in range(100):\n",
    "    P=P*(k+1)\n",
    "print(\"P=\",P)"
   ]
  },
  {
   "cell_type": "code",
   "execution_count": 34,
   "metadata": {},
   "outputs": [
    {
     "name": "stdout",
     "output_type": "stream",
     "text": [
      "Nombre entier positif:10\n",
      "S= 55\n",
      "P= 3628800\n"
     ]
    }
   ],
   "source": [
    "S,P=0,1\n",
    "n=int(input(\"Nombre entier positif:\"))\n",
    "for k in range(n):\n",
    "    S=S+(k+1)\n",
    "    P=P*(k+1)\n",
    "print(\"S=\",S)\n",
    "print(\"P=\",P)"
   ]
  },
  {
   "cell_type": "markdown",
   "metadata": {},
   "source": [
    "# Exercice\n",
    "\n",
    "1. Saisir dans l'interpréteur la fonction \"bin(9)\". Quel est le résultat affiché ?\n",
    "2. L'objectif est de créer une boucle WHILE qui donne l'écriture binaire d'un nombre entier positif en utilisant les divisions successives.     \n",
    "a) On utilisera les variables n pour le nombre entier positif, b pour l'écriture binaire obtenue qui sera de type \"string\" et r pour les restes des divisions entières.    \n",
    "b) On calculera les divisions en mémorisant le reste dans une variable r et le nouveau quotient dans n.     \n",
    "c) Le nombre n est divisé par 2 jusquà devenir nul. On fait les calculs tant que n est différent de 0.        \n",
    "d) On construit le nombre binaire b comme chaine de caractères constituée des restes.\n",
    "\n",
    "3. On pourra faire une vérification avec la fonction int(chaine,base)."
   ]
  },
  {
   "cell_type": "code",
   "execution_count": 35,
   "metadata": {},
   "outputs": [
    {
     "data": {
      "text/plain": [
       "'0b1001'"
      ]
     },
     "execution_count": 35,
     "metadata": {},
     "output_type": "execute_result"
    }
   ],
   "source": [
    "# On affiche l'ecriture binaire du nombre 9\n",
    "bin(9)"
   ]
  },
  {
   "cell_type": "code",
   "execution_count": 50,
   "metadata": {},
   "outputs": [
    {
     "name": "stdout",
     "output_type": "stream",
     "text": [
      "Nombre entier positif:999\n",
      "1111100111 est l'écriture binaire de 999\n"
     ]
    }
   ],
   "source": [
    "n=int(input(\"Nombre entier positif:\"))\n",
    "b=''\n",
    "while n!=0:\n",
    "    r=n%2\n",
    "    b=str(r)+b\n",
    "    n=n//2\n",
    "print(b,\"est l'écriture binaire de\",int(b,2))"
   ]
  }
 ],
 "metadata": {
  "kernelspec": {
   "display_name": "Python 3",
   "language": "python",
   "name": "python3"
  },
  "language_info": {
   "codemirror_mode": {
    "name": "ipython",
    "version": 3
   },
   "file_extension": ".py",
   "mimetype": "text/x-python",
   "name": "python",
   "nbconvert_exporter": "python",
   "pygments_lexer": "ipython3",
   "version": "3.9.4"
  },
  "latex_envs": {
   "bibliofile": "biblio.bib",
   "cite_by": "apalike",
   "current_citInitial": 1,
   "eqLabelWithNumbers": true,
   "eqNumInitial": 0
  }
 },
 "nbformat": 4,
 "nbformat_minor": 2
}
