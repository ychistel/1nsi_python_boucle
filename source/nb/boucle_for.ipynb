{
 "cells": [
  {
   "cell_type": "markdown",
   "id": "92491d01",
   "metadata": {},
   "source": [
    "Boucle bornée\n",
    "============"
   ]
  },
  {
   "cell_type": "markdown",
   "id": "eb20cfe9",
   "metadata": {},
   "source": [
    "Une instruction répétée 100 fois n'est pas écrite 100 fois dans le programme. On utilise une boucle.\n",
    "\n",
    "La structure de boucle est appelée une structure **itérative** et chaque répétition est une **itération**.\n",
    "\n",
    "Une boucle **bornée** répète un nombre fixé de fois une ou plusieurs instructions. Ce nombre est fixé avant l'exécution de la boucle."
   ]
  },
  {
   "cell_type": "raw",
   "id": "3fe569e7",
   "metadata": {
    "raw_mimetype": "text/restructuredtext"
   },
   "source": [
    ".. note::\n",
    "\n",
    "    1. Les instructions contenues dans une **boucle** constituent un mini programme qui sera exécuté autant de fois que la boucle le demande.\n",
    "    2. Une **boucle** peut contenir d'autres **boucles**. On parle alors de boucles imbriquées."
   ]
  },
  {
   "cell_type": "markdown",
   "id": "3fcb8c61",
   "metadata": {},
   "source": [
    "La boucle for\n",
    "------------------\n",
    "\n",
    "La boucle `for` est une boucle **bornée**. Elle répète **un nombre fini de fois** les instructions contenues dans la boucle.\n",
    "\n",
    "La boucle `for` prélève dans l'ordre les valeurs présentes dans un ensemble **itérable** de valeurs.\n",
    "\n",
    "Cet ensemble itérable de valeurs peut être:\n",
    "\n",
    "- une liste ;\n",
    "- une chaine de caractères ;\n",
    "- une séquence de nombres entiers définie par `range`.\n",
    "\n",
    "La structure de la boucle `for` est la suivante :\n",
    "\n",
    "```Python\n",
    "for clef in ensemble_itérable_de_valeurs:\n",
    "    instruction 1\n",
    "    instruction 2\n",
    "    etc\n",
    "# on désindente, fin de la boucle\n",
    "```\n",
    "\n",
    "La **clef** utilisée dans la boucle `for` est une **variable** qui prend une nouvelle valeur à chaque **itération**."
   ]
  },
  {
   "cell_type": "raw",
   "id": "eaa21b19",
   "metadata": {
    "raw_mimetype": "text/restructuredtext"
   },
   "source": [
    ".. admonition:: Exemple\n",
    "\n",
    "    Supposons la liste de valeurs \"mot\", 13, \"deux\", 6, 125 et \"quatre\" que l'on souhaite afficher.\n",
    "\n",
    "    >>> for c in [\"mot\",13,\"deux\",6,125,\"quatre\"]:\n",
    "            print(c)\n",
    "\n",
    "    On obtient l'affichage :\n",
    "\n",
    "    .. code-block:: python\n",
    "    \n",
    "        mot\n",
    "        13\n",
    "        deux\n",
    "        6\n",
    "        125\n",
    "        quatre"
   ]
  },
  {
   "cell_type": "raw",
   "id": "aecdd2b7",
   "metadata": {
    "raw_mimetype": "text/restructuredtext"
   },
   "source": [
    ".. important::\n",
    "\n",
    "    - La clef peut être une lettre, un mot ou même le caractère souligné _.\n",
    "    - Si la liste des valeurs est composée de nombres, alors il est possible d'effectuer des calculs avec la clef.\n",
    "    - Une chaine de caractères est itérable, ce qui signifie qu'on peut la parcourir lettre par lettre avec une boucle (y compris les espaces et autres symboles)."
   ]
  },
  {
   "cell_type": "markdown",
   "id": "06df3aad",
   "metadata": {},
   "source": [
    "Itération avec RANGE\n",
    "-------------------------------\n",
    "\n",
    "Une variable de type `list` est **itérable**, ce qui signifie que l'on peut parcourir ses éléments un à un.\n",
    "\n",
    "Par exemple, si on veut afficher les 6 premiers nombres entiers non nuls, on peut écrire la boucle suivante:\n",
    "\n",
    "```python\n",
    "for i in [1,2,3,4,5,6]:\n",
    "    print(i)\n",
    "```\n",
    "\n",
    "Seulement, cette méthode sera très longue si on veut afficher les 100 premiers nombres entiers !\n",
    "\n",
    "En Python, le type `range` construit une séquence immuable de nombres entiers régulièrement espacés. Ce type `range` s'utilise comme une fonction et a différents paramètres:\n",
    "\n",
    "- `range(n)` renvoie la séquence de nombres entiers positifs de $0$ jusqu'à $n-1$.\n",
    "- `range(p,n)` renvoie la séquence de nombres entiers positifs de $p$ jusqu'à $n-1$.\n",
    "- `range(p,n,k)` renvoie la séquence de nombres entiers positifs de $p$, $p+k$, $p+2k$, ... jusqu'à $n-1$ au plus."
   ]
  },
  {
   "cell_type": "raw",
   "id": "5997013d",
   "metadata": {
    "raw_mimetype": "text/restructuredtext"
   },
   "source": [
    ".. admonition:: Exemple\n",
    "\n",
    "    - :code:`range(8)` est la séquence de nombres entiers de 0 à 7 soit huit valeurs : 0, 1, 2, 3, 4, 5, 6, 7.\n",
    "    - :code:`range(3,8)` est la séquence de nombres entiers de 3 à 7 soit cinq valeurs : 3, 4, 5, 6, 7.\n",
    "    - :code:`range(3,8,2)` est la séquence de nombres entiers 3, 5, 7. Elle démarre à 3, progresse de 2 en 2 jusqu'à 8."
   ]
  },
  {
   "cell_type": "raw",
   "id": "6029f7d3",
   "metadata": {
    "raw_mimetype": "text/restructuredtext"
   },
   "source": [
    ".. tip::\n",
    "\n",
    "    L'exécution de :code:`range(3,8,2)` dans l'interpréteur Python n'affiche pas les valeurs. Pour les afficher, il faut une boucle avec un **print**."
   ]
  },
  {
   "cell_type": "markdown",
   "id": "268b70d7",
   "metadata": {},
   "source": [
    "Pour afficher les 100 premiers nombres entiers, on détermine la séquence de nombres entiers avec range: `range(1,101)`.\n",
    "\n",
    "Ensuite, avec une boucle `for` on peut afficher nos nombres:\n",
    "\n",
    "```python\n",
    "for i in range(1,101):\n",
    "    print(i)\n",
    "```\n",
    "Ce qui affichera tous les nombres entiers de 1 à 100."
   ]
  }
 ],
 "metadata": {
  "celltoolbar": "Format de la Cellule Texte Brut",
  "kernelspec": {
   "display_name": "Python 3",
   "language": "python",
   "name": "python3"
  },
  "language_info": {
   "codemirror_mode": {
    "name": "ipython",
    "version": 3
   },
   "file_extension": ".py",
   "mimetype": "text/x-python",
   "name": "python",
   "nbconvert_exporter": "python",
   "pygments_lexer": "ipython3",
   "version": "3.9.4"
  }
 },
 "nbformat": 4,
 "nbformat_minor": 5
}
