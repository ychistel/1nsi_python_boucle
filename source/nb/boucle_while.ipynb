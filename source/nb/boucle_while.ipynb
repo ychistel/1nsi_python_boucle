{
 "cells": [
  {
   "cell_type": "markdown",
   "id": "92491d01",
   "metadata": {},
   "source": [
    "Boucle non bornée\n",
    "==============="
   ]
  },
  {
   "cell_type": "markdown",
   "id": "62c80cc5",
   "metadata": {},
   "source": [
    "Une instruction répétée 100 fois n'est pas écrite 100 fois dans un programme. On utilise une boucle.\n",
    "\n",
    "Une boucle **non bornée** répète une ou plusieurs instructions autant de fois que le test de boucle est vrai. Une telle boucle peut être infinie et ne jamais s'arrêter."
   ]
  },
  {
   "cell_type": "markdown",
   "id": "e7541ce0",
   "metadata": {},
   "source": [
    "La boucle while\n",
    "----------------------\n",
    "\n",
    "La boucle `while` est **non bornée**.\n",
    "\n",
    "La boucle `while` exécute les instructions contenues dans la boucle **tant que la condition donnée est vraie**.\n",
    "\n",
    "La syntaxe d'une boucle `while` est la suivante:\n",
    "\n",
    "```python\n",
    "while condition:\n",
    "    instruction 1\n",
    "    instruction 2\n",
    "    etc\n",
    "# on désindente, fin de la boucle\n",
    "```"
   ]
  },
  {
   "cell_type": "raw",
   "id": "bf7a156b",
   "metadata": {
    "raw_mimetype": "text/restructuredtext"
   },
   "source": [
    ".. admonition:: Exemple\n",
    "\n",
    "    On demande la saisie d'un nombre entier positif et on veut afficher les nombres pairs positifs inférieurs au nombre saisi.\n",
    "\n",
    "    .. code-block:: python\n",
    "    \n",
    "        n = int(input(\"saisir un nombre entier:\"))\n",
    "        i = 2\n",
    "        while i <= n:\n",
    "            print(i)\n",
    "            i = i + 2\n",
    "\n",
    "    Si on saisit le nombre 9, on obtient l'affichage:\n",
    "    \n",
    "    .. code-block:: python\n",
    "    \n",
    "        2\n",
    "        4\n",
    "        6\n",
    "        8"
   ]
  },
  {
   "cell_type": "raw",
   "id": "b649ad8d",
   "metadata": {
    "raw_mimetype": "text/restructuredtext"
   },
   "source": [
    ".. warning::\n",
    "\n",
    "    Lorsqu'on utilise une boucle `while` pour exécuter un nombre fini de fois des instructions,  il faut s'assurer de la terminaison de la boucle, c'est à dire que le test peut prendre la valeur `False` et ainsi arrêter la boucle."
   ]
  },
  {
   "cell_type": "raw",
   "id": "adf383b4",
   "metadata": {
    "raw_mimetype": "text/restructuredtext"
   },
   "source": [
    ".. important::\n",
    "\n",
    "    - la condition à vérifier est un test booléen. Tant que celui-ci est vrai, l'itération se poursuit.\n",
    "    - si une condition est toujours vraie, la boucle ne s'arrête pas, elle est infinie.\n",
    "    - dès que la condition est fausse, la boucle s'arrête !\n",
    "    - si la condition devient fausse pendant l'itération, celle-ci se poursuit jusqu'à la fin de la boucle."
   ]
  }
 ],
 "metadata": {
  "celltoolbar": "Format de la Cellule Texte Brut",
  "kernelspec": {
   "display_name": "Python 3",
   "language": "python",
   "name": "python3"
  },
  "language_info": {
   "codemirror_mode": {
    "name": "ipython",
    "version": 3
   },
   "file_extension": ".py",
   "mimetype": "text/x-python",
   "name": "python",
   "nbconvert_exporter": "python",
   "pygments_lexer": "ipython3",
   "version": "3.9.4"
  }
 },
 "nbformat": 4,
 "nbformat_minor": 5
}
